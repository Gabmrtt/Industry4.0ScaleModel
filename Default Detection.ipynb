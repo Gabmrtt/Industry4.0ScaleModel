{
 "cells": [
  {
   "cell_type": "code",
   "execution_count": null,
   "metadata": {},
   "outputs": [],
   "source": [
    "import os\n",
    "import pandas as pd\n",
    "import numpy as np\n",
    "import matplotlib.pyplot as plt\n",
    "import matplotlib.image as mpimg\n",
    "from matplotlib import cm\n",
    "import cv2\n",
    "import PIL\n",
    "from PIL import Image\n",
    "import math\n",
    "\n",
    "import tensorflow\n",
    "from keras.datasets import mnist\n",
    "from time import sleep\n",
    "import time\n",
    "import sklearn"
   ]
  },
  {
   "cell_type": "markdown",
   "metadata": {},
   "source": [
    "### Importation de l'image"
   ]
  },
  {
   "cell_type": "code",
   "execution_count": null,
   "metadata": {},
   "outputs": [],
   "source": []
  },
  {
   "cell_type": "markdown",
   "metadata": {},
   "source": [
    "### L'image est rognée pour cerner la zone d'intérêt"
   ]
  },
  {
   "cell_type": "code",
   "execution_count": null,
   "metadata": {},
   "outputs": [],
   "source": []
  },
  {
   "cell_type": "code",
   "execution_count": null,
   "metadata": {},
   "outputs": [],
   "source": []
  },
  {
   "cell_type": "markdown",
   "metadata": {},
   "source": [
    "### Preprocessing using CV2 OpenCV"
   ]
  },
  {
   "cell_type": "code",
   "execution_count": null,
   "metadata": {},
   "outputs": [],
   "source": []
  },
  {
   "cell_type": "code",
   "execution_count": null,
   "metadata": {},
   "outputs": [],
   "source": []
  },
  {
   "cell_type": "code",
   "execution_count": null,
   "metadata": {},
   "outputs": [],
   "source": []
  },
  {
   "cell_type": "code",
   "execution_count": null,
   "metadata": {},
   "outputs": [],
   "source": []
  },
  {
   "cell_type": "markdown",
   "metadata": {},
   "source": [
    "### PILLOW"
   ]
  },
  {
   "cell_type": "code",
   "execution_count": null,
   "metadata": {},
   "outputs": [],
   "source": []
  },
  {
   "cell_type": "code",
   "execution_count": null,
   "metadata": {},
   "outputs": [],
   "source": []
  },
  {
   "cell_type": "markdown",
   "metadata": {},
   "source": [
    "## Compression"
   ]
  },
  {
   "cell_type": "code",
   "execution_count": null,
   "metadata": {},
   "outputs": [],
   "source": []
  },
  {
   "cell_type": "code",
   "execution_count": null,
   "metadata": {},
   "outputs": [],
   "source": []
  },
  {
   "cell_type": "markdown",
   "metadata": {},
   "source": [
    "## Preprocess pipe"
   ]
  },
  {
   "cell_type": "code",
   "execution_count": null,
   "metadata": {},
   "outputs": [],
   "source": [
    "P4 = PIL.Image.open(\"photo4.jpg\")\n",
    "plt.figure()\n",
    "print(plt. imshow(P4))\n",
    "\n",
    "P4gray = P4.convert(\"L\")\n",
    "P4grayar = np.asarray(P4gray)\n",
    "plt.figure()\n",
    "plt. imshow(P4grayar, cmap=\"gray\")\n",
    "\n",
    "\n",
    "P4grayar = P4grayar[310:610,450:750]\n",
    "plt.figure()\n",
    "print(plt. imshow(P4grayar, cmap=\"gray\"))"
   ]
  },
  {
   "cell_type": "code",
   "execution_count": null,
   "metadata": {},
   "outputs": [],
   "source": [
    "P4_t = np.copy(P4grayar)\n",
    "#P1_t.setflags(write=1)\n",
    "\n",
    "thresh = 50\n",
    "for i in range(300):\n",
    "    for j in range(300):\n",
    "        if P4_t[i,j] <= thresh:\n",
    "               P4_t[i,j] = 50\n",
    "        if P4_t[i,j] > thresh:\n",
    "            P4_t[i,j] = 30\n",
    "            \n",
    "        \n",
    "print(plt. imshow(P4_t, cmap=\"gray\"))"
   ]
  },
  {
   "cell_type": "code",
   "execution_count": null,
   "metadata": {},
   "outputs": [],
   "source": [
    "P4g=np.asarray(P4)\n",
    "P4g = P4g[310:610,450:750]\n",
    "print(plt. imshow(P4g))\n",
    "np.shape(P4g)"
   ]
  },
  {
   "cell_type": "code",
   "execution_count": null,
   "metadata": {},
   "outputs": [],
   "source": [
    "P4g2 = np.copy(P4g)\n",
    "for i in range(len(P4g2)):\n",
    "    for j in range(len(P4g2)):\n",
    "        if P4g2[i,j,2]< 200 and P4g2[i,j,1]<220 and P4g[i,j,0]<200:\n",
    "            P4g2[i,j] = [255,255,255]\n",
    "        else:\n",
    "            P4g2[i,j] = [0,0,0]\n",
    "print(plt. imshow(P4g2))"
   ]
  },
  {
   "cell_type": "code",
   "execution_count": null,
   "metadata": {},
   "outputs": [],
   "source": [
    "P4c = Image.fromarray(np.uint8((P4g2)))\n",
    "x,y = P4c.size\n",
    "x2, y2 = math.floor(x-3*x/4), math.floor(y-3*y/4)\n",
    "P4c = P4c.resize((x2,y2),Image.ANTIALIAS)\n",
    "P4cnp = np.asarray(P4c)\n",
    "print(plt. imshow(P4cnp))"
   ]
  },
  {
   "cell_type": "code",
   "execution_count": null,
   "metadata": {},
   "outputs": [],
   "source": [
    "def preprocess(photo, comp_rate,print):\n",
    "    #Photo imported using PIL and compression rate in decimal (0.9 --> 90% comp rate)\n",
    "    #P1 : Rognage de la photo\n",
    "    photo=np.asarray(photo)\n",
    "    photo = photo[310:610,450:750]\n",
    "    if(print):\n",
    "        plt.figure()\n",
    "        plt. imshow(photo)\n",
    "        plt.title('Originale rognée')\n",
    "    \n",
    "    #P2 : Définition de la zone d'intérêt de la pièce\n",
    "    photo2 = np.copy(photo)\n",
    "    for i in range(len(photo2)):\n",
    "        for j in range(len(photo2)):\n",
    "            if photo2[i,j,2]< 200 and photo2[i,j,1]<220 and photo2[i,j,0]<200:\n",
    "                photo2[i,j] = [255,255,255]\n",
    "            else:\n",
    "                photo2[i,j] = [0,0,0]\n",
    "    if(print):\n",
    "        plt.figure()\n",
    "        plt. imshow(photo2)\n",
    "        plt.title('Photo noire et blanc avec pièce isolée')\n",
    "    \n",
    "    #P3 : Compression de la photo en vue du modèle de ML\n",
    "    Photo_c = Image.fromarray(np.uint8((photo2)))\n",
    "    x,y = Photo_c.size\n",
    "    x2, y2 = math.floor(x-comp_rate*x/1), math.floor(y-comp_rate*y/1)\n",
    "    Photo_c = Photo_c.resize((x2,y2),Image.ANTIALIAS)\n",
    "    Photo_c = np.asarray(Photo_c)\n",
    "    if(print):\n",
    "        plt.figure()\n",
    "        plt. imshow(Photo_c)\n",
    "        plt.title(\"Image compressée\")\n",
    "    \n",
    "    #P4 : Cleaning Post-Compression\n",
    "    photo_C2 = np.copy(Photo_c)\n",
    "    for i in range(len(photo_C2)):\n",
    "        for j in range(len(photo_C2)):\n",
    "            if photo_C2[i,j,2]< 60 and photo_C2[i,j,1]<60 and photo_C2[i,j,0]<60:\n",
    "                photo_C2[i,j] = [0,0,0]\n",
    "            else:\n",
    "                photo_C2[i,j] = [255,255,255]\n",
    "    if(print):\n",
    "        plt.figure()\n",
    "        plt. imshow(photo_C2)\n",
    "        plt.title('Photo finale')\n",
    "\n",
    "start_time = time.time()\n",
    "preprocess(P4,0.9,1)\n",
    "T = time.time()-start_time"
   ]
  },
  {
   "cell_type": "code",
   "execution_count": null,
   "metadata": {
    "scrolled": true
   },
   "outputs": [],
   "source": [
    "#Calcul efficiency par rapport au compression rate\n",
    "\n",
    "Result = pd.DataFrame()\n",
    "T = []\n",
    "Comp_test = [0,0.1,0.2,0.3,0.4,0.5,0.6,0.7,0.8,0.9,0.95,0.965,0.98]\n",
    "for i in Comp_test:\n",
    "        start_time = time.time()\n",
    "        preprocess(P4,i,0)\n",
    "        T.append(time.time()-start_time)\n",
    "        \n",
    "Result['Compression rate'] = Comp_test\n",
    "Result['Time'] = T\n",
    "plt.figure()\n",
    "plt.plot(Result['Compression rate']*100,Result[\"Time\"])\n",
    "plt.xlabel(\"Compression rate (%)\")\n",
    "plt.ylabel(\"Time (s)\")\n",
    "plt.show()\n",
    "\n",
    "Result[\"Nombre final de pixel\"] = ((1-Result['Compression rate'])*300)**2\n",
    "\n",
    "print(Result)"
   ]
  },
  {
   "cell_type": "code",
   "execution_count": null,
   "metadata": {},
   "outputs": [],
   "source": [
    "preprocess(P4,0.6,1)"
   ]
  },
  {
   "cell_type": "markdown",
   "metadata": {},
   "source": [
    "# ML Model 1"
   ]
  },
  {
   "cell_type": "code",
   "execution_count": null,
   "metadata": {},
   "outputs": [],
   "source": [
    "def preprocess_train(photo, comp_rate,print):\n",
    "    #Photo imported using PIL and compression rate in decimal (0.9 --> 90% comp rate)\n",
    "    #P1 : Rognage de la photo\n",
    "    photo=np.asarray(photo)\n",
    "    photo = photo[100:180,112:205]\n",
    "    if(print):\n",
    "        plt.figure()\n",
    "        plt. imshow(photo)\n",
    "        plt.title('Originale rognée')\n",
    "    \n",
    "    #P2 : Définition de la zone d'intérêt de la pièce\n",
    "    photo2 = np.copy(photo)\n",
    "    for i in range(len(photo2)):\n",
    "        for j in range(np.size(photo2,1)):\n",
    "            if photo2[i,j,2]< 230 and photo2[i,j,1]<230 and photo2[i,j,0]<230:\n",
    "                photo2[i,j] = [255,255,255]\n",
    "            else:\n",
    "                photo2[i,j] = [0,0,0]\n",
    "    if(print):\n",
    "        plt.figure()\n",
    "        plt. imshow(photo2)\n",
    "        plt.title('Photo noire et blanc avec pièce isolée')\n",
    "    \n",
    "    #P3 : Compression de la photo en vue du modèle de ML\n",
    "    Photo_c = Image.fromarray(np.uint8((photo2)))\n",
    "    x,y = Photo_c.size\n",
    "    x2, y2 = math.floor(x-comp_rate*x/1), math.floor(y-comp_rate*y/1)\n",
    "    Photo_c = Photo_c.resize((x2,y2),Image.ANTIALIAS)\n",
    "    Photo_c = np.asarray(Photo_c)\n",
    "    if(print):\n",
    "        plt.figure()\n",
    "        plt. imshow(Photo_c)\n",
    "        plt.title(\"Image compressée\")\n",
    "    \n",
    "    #P4 : Cleaning Post-Compression\n",
    "    photo_C2 = np.copy(Photo_c)\n",
    "    for i in range(len(photo_C2)):\n",
    "        for j in range(np.size(photo_C2,1)):\n",
    "            if photo_C2[i,j,2]< 60 and photo_C2[i,j,1]<60 and photo_C2[i,j,0]<60:\n",
    "                photo_C2[i,j] = [0,0,0]\n",
    "            else:\n",
    "                photo_C2[i,j] = [255,255,255]\n",
    "    return(photo_C2)\n",
    "    if(print):\n",
    "        plt.figure()\n",
    "        plt. imshow(photo_C2)\n",
    "        plt.title('Photo finale')\n",
    "\n",
    "#start_time = time.time()\n",
    "#preprocess(P4,0.9,1)\n",
    "#T = time.time()-start_time"
   ]
  },
  {
   "cell_type": "code",
   "execution_count": null,
   "metadata": {},
   "outputs": [],
   "source": [
    "image_path_list = []\n",
    "P = []\n",
    "imageDir = \"pictures white\"\n",
    "for file in os.listdir(imageDir):\n",
    "    image_path_list.append(os.path.join(imageDir, file))\n",
    "for i in range(len(image_path_list)):\n",
    "    P.append(np.asarray(PIL.Image.open(image_path_list[i])))\n",
    "    \n",
    "    "
   ]
  },
  {
   "cell_type": "code",
   "execution_count": null,
   "metadata": {
    "scrolled": true
   },
   "outputs": [],
   "source": [
    "P2 = []\n",
    "for i in range(len(P)):\n",
    "    print(\"Picture\",i)\n",
    "    P2.append(preprocess_train(P[i],0.4,1))\n",
    "    plt.figure()\n",
    "    plt.imshow(P2[i])"
   ]
  },
  {
   "cell_type": "code",
   "execution_count": null,
   "metadata": {},
   "outputs": [],
   "source": [
    "#Comp 0.3 --> 14700\n",
    "#Comp 0.6 --> 4800"
   ]
  },
  {
   "cell_type": "code",
   "execution_count": null,
   "metadata": {},
   "outputs": [],
   "source": [
    "Data = pd.DataFrame()\n",
    "for i in range(len(P2)):\n",
    "    tmp = np.reshape(P2[i],7920)\n",
    "    Data[i] = tmp"
   ]
  },
  {
   "cell_type": "code",
   "execution_count": null,
   "metadata": {},
   "outputs": [],
   "source": [
    "Data"
   ]
  },
  {
   "cell_type": "code",
   "execution_count": null,
   "metadata": {},
   "outputs": [],
   "source": [
    "Data = Data.T"
   ]
  },
  {
   "cell_type": "code",
   "execution_count": null,
   "metadata": {},
   "outputs": [],
   "source": [
    "Data = Data.drop(0)\n",
    "Data = Data.drop(1)\n",
    "Data = Data.drop(3)\n",
    "Data = Data.drop(4)\n",
    "Data = Data.drop(6)\n",
    "Data = Data.drop(7)\n",
    "\n",
    "defaut = [0,0,1,1,0,1,1,1,1,1,1,1,1,1,1,1,1,1,1,1,1,1,0,1,1,1,0,0,0,0]"
   ]
  },
  {
   "cell_type": "code",
   "execution_count": null,
   "metadata": {},
   "outputs": [],
   "source": [
    "Data[\"Défauts\"] = defaut"
   ]
  },
  {
   "cell_type": "code",
   "execution_count": null,
   "metadata": {},
   "outputs": [],
   "source": [
    "Data.loc[Data[\"Défauts\"] == 0]"
   ]
  },
  {
   "cell_type": "code",
   "execution_count": null,
   "metadata": {},
   "outputs": [],
   "source": [
    "defaut = [0,0,1,1,0,1,1,1,1,1,1,1,1,1,1,1,1,1,1,1,1,1,0,1,1,1,0,0,0,0]"
   ]
  },
  {
   "cell_type": "code",
   "execution_count": null,
   "metadata": {},
   "outputs": [],
   "source": [
    "Data = pd.concat([Data,Data.loc[Data[\"Défauts\"] == 0]])"
   ]
  },
  {
   "cell_type": "code",
   "execution_count": null,
   "metadata": {
    "scrolled": true
   },
   "outputs": [],
   "source": [
    "Data"
   ]
  },
  {
   "cell_type": "markdown",
   "metadata": {},
   "source": [
    "## Random Forest model"
   ]
  },
  {
   "cell_type": "code",
   "execution_count": null,
   "metadata": {},
   "outputs": [],
   "source": [
    "from sklearn import preprocessing\n",
    "from sklearn.model_selection import train_test_split\n",
    "from sklearn.ensemble import RandomForestClassifier\n",
    "from sklearn.metrics import accuracy_score\n",
    "from sklearn.model_selection import cross_val_score\n",
    "\n",
    "y = Data['Défauts']\n",
    "X = Data.drop(['Défauts'],axis=1)\n",
    "X = X/255\n",
    "X_train, X_test, y_train, y_test = train_test_split(X,y,test_size = 0.25)\n",
    "\n"
   ]
  },
  {
   "cell_type": "code",
   "execution_count": null,
   "metadata": {},
   "outputs": [],
   "source": [
    "clf = RandomForestClassifier(max_depth=20, random_state=9)\n",
    "clf.fit(X_train, y_train)\n",
    "y_pred = clf.predict(X_test)\n"
   ]
  },
  {
   "cell_type": "code",
   "execution_count": null,
   "metadata": {
    "scrolled": true
   },
   "outputs": [],
   "source": [
    "max_depth = [1,2,5,10,20,50]\n",
    "accuracy = []\n",
    "y_pred_all = []\n",
    "\n",
    "for i in max_depth:\n",
    "    clf = RandomForestClassifier(n_estimators=int(i))\n",
    "    clf.fit(X_train, y_train)\n",
    "    y_pred = clf.predict(X_test)\n",
    "    y_pred_all.append(y_pred)\n",
    "    accuracy.append(cross_val_score(clf,X,y,cv = 3, scoring = \"accuracy\"))\n",
    "    print(i)\n",
    "plt.boxplot(accuracy)\n",
    "plt.xlabel(\"Max depth\")\n",
    "plt.ylabel(\"Accuracy\")\n",
    "plt.show() "
   ]
  },
  {
   "cell_type": "code",
   "execution_count": null,
   "metadata": {},
   "outputs": [],
   "source": []
  },
  {
   "cell_type": "code",
   "execution_count": null,
   "metadata": {},
   "outputs": [],
   "source": [
    "plt.boxplot(accuracy)\n",
    "plt.show()"
   ]
  },
  {
   "cell_type": "markdown",
   "metadata": {},
   "source": [
    "## CNN Model"
   ]
  },
  {
   "cell_type": "code",
   "execution_count": null,
   "metadata": {},
   "outputs": [],
   "source": [
    "import tensorflow as tf\n",
    "from tensorflow import keras\n",
    "from tensorflow.keras import layers, models\n",
    "from keras.utils import plot_model"
   ]
  },
  {
   "cell_type": "code",
   "execution_count": null,
   "metadata": {},
   "outputs": [],
   "source": [
    "X"
   ]
  },
  {
   "cell_type": "code",
   "execution_count": null,
   "metadata": {},
   "outputs": [],
   "source": [
    "def cnn_model():\n",
    "    model = models.Sequential()\n",
    "    model.add(layers.Dense(units=7920, activation='sigmoid', input_shape=[6750]))\n",
    "    model.add(layers.Dense(1000, activation='sigmoid'))\n",
    "    model.add(layers.Dense(100,activation='sigmoid'))\n",
    "    model.add(layers.Dense(10, activation = \"sigmoid\"))\n",
    "    model.add(layers.Dense(1))\n",
    "    return model\n",
    "\n",
    "def cnn_model2():\n",
    "    model = models.Sequential()\n",
    "    model.add(layers.Dense(units=20, activation='swish', input_shape=[4800]))\n",
    "    model.add(layers.Dense(15, activation='sigmoid'))\n",
    "    model.add(layers.Dense(12,activation='sigmoid'))\n",
    "    model.add(layers.Dense(6))\n",
    "    return model\n",
    "\n",
    "\n",
    "model = tf.keras.Sequential([\n",
    "tf.keras.layers.Dense(input_shape=(28, 28)),\n",
    "tf.keras.layers.Dense(128, activation='relu'),\n",
    "tf.keras.layers.Dense(10)\n",
    "])"
   ]
  },
  {
   "cell_type": "code",
   "execution_count": null,
   "metadata": {},
   "outputs": [],
   "source": [
    "#model = cnn_model()\n",
    "\n",
    "model = tf.keras.Sequential([\n",
    "tf.keras.layers.Flatten(input_shape=(28, 28)),\n",
    "tf.keras.layers.Dense(128, activation='relu'),\n",
    "tf.keras.layers.Dense(2)\n",
    "])\n",
    "\n",
    "model.summary()"
   ]
  },
  {
   "cell_type": "code",
   "execution_count": null,
   "metadata": {
    "scrolled": true
   },
   "outputs": [],
   "source": [
    "\"\"\"\n",
    "model.compile(\n",
    "    optimizer=\"adamax\",\n",
    "    loss='mse',\n",
    "    metrics = 'mse'\n",
    ")\"\"\"\n",
    "\n",
    "model.compile(optimizer='adam',\n",
    "              loss=tf.keras.losses.SparseCategoricalCrossentropy(from_logits=True),\n",
    "              metrics=['accuracy'])\n",
    "\n",
    "history = model.fit(\n",
    "    X, y,\n",
    "    validation_data=(X_test, y_test),\n",
    "    batch_size=500,\n",
    "    callbacks=tf.keras.callbacks.EarlyStopping(monitor='val_loss', patience=10),\n",
    "    epochs=100)"
   ]
  },
  {
   "cell_type": "code",
   "execution_count": null,
   "metadata": {},
   "outputs": [],
   "source": [
    "y_pred = model.predict(X_test)"
   ]
  },
  {
   "cell_type": "code",
   "execution_count": null,
   "metadata": {},
   "outputs": [],
   "source": [
    "y_pred"
   ]
  },
  {
   "cell_type": "code",
   "execution_count": null,
   "metadata": {},
   "outputs": [],
   "source": [
    "y_test"
   ]
  },
  {
   "cell_type": "markdown",
   "metadata": {},
   "source": [
    "# RF Classifier Model"
   ]
  },
  {
   "cell_type": "code",
   "execution_count": null,
   "metadata": {
    "scrolled": false
   },
   "outputs": [],
   "source": [
    "import os\n",
    "import pandas as pd\n",
    "import numpy as np\n",
    "import matplotlib.pyplot as plt\n",
    "import matplotlib.image as mpimg\n",
    "from matplotlib import cm\n",
    "import cv2\n",
    "import PIL\n",
    "from PIL import Image\n",
    "import math\n",
    "from time import sleep\n",
    "import time\n",
    "import sklearn\n",
    "\n",
    "import tensorflow as tf\n",
    "from tensorflow import keras\n",
    "from tensorflow.keras import layers, models\n",
    "from keras.utils import plot_model\n",
    "\n",
    "from sklearn import preprocessing\n",
    "from sklearn.model_selection import train_test_split\n",
    "from sklearn.ensemble import RandomForestClassifier\n",
    "from sklearn.metrics import accuracy_score\n",
    "from sklearn.model_selection import cross_val_score\n",
    "\n",
    "def preprocess_train(photo, comp_rate,print):\n",
    "    #Photo imported using PIL and compression rate in decimal (0.9 --> 90% comp rate)\n",
    "    #P1 : Rognage de la photo\n",
    "    photo=np.asarray(photo)\n",
    "    photo = photo[95:185,110:210]\n",
    "    if(print):\n",
    "        plt.figure()\n",
    "        plt. imshow(photo)\n",
    "        plt.title('Originale rognée')\n",
    "    \n",
    "    #P2 : Définition de la zone d'intérêt de la pièce\n",
    "    photo2 = np.copy(photo)\n",
    "    for i in range(len(photo2)):\n",
    "        for j in range(np.size(photo2,1)):\n",
    "            if photo2[i,j,2]< 235 and photo2[i,j,1]<235 and photo2[i,j,0]<235:\n",
    "                photo2[i,j] = [255,255,255]\n",
    "            else:\n",
    "                photo2[i,j] = [0,0,0]\n",
    "    if(print):\n",
    "        plt.figure()\n",
    "        plt. imshow(photo2)\n",
    "        plt.title('Photo noire et blanc avec pièce isolée')\n",
    "    \n",
    "    #P3 : Compression de la photo en vue du modèle de ML\n",
    "    Photo_c = Image.fromarray(np.uint8((photo2)))\n",
    "    x,y = Photo_c.size\n",
    "    x2, y2 = math.floor(x-comp_rate*x/1), math.floor(y-comp_rate*y/1)\n",
    "    Photo_c = Photo_c.resize((x2,y2),Image.ANTIALIAS)\n",
    "    Photo_c = np.asarray(Photo_c)\n",
    "    if(print):\n",
    "        plt.figure()\n",
    "        plt. imshow(Photo_c)\n",
    "        plt.title(\"Image compressée\")\n",
    "    \n",
    "    #P4 : Cleaning Post-Compression\n",
    "    photo_C2 = np.copy(Photo_c)\n",
    "    for i in range(len(photo_C2)):\n",
    "        for j in range(np.size(photo_C2,1)):\n",
    "            if photo_C2[i,j,2]< 60 and photo_C2[i,j,1]<60 and photo_C2[i,j,0]<60:\n",
    "                photo_C2[i,j] = [0,0,0]\n",
    "            else:\n",
    "                photo_C2[i,j] = [255,255,255]\n",
    "    if(print):\n",
    "        plt.figure()\n",
    "        plt. imshow(photo_C2)\n",
    "        plt.title('Photo finale')\n",
    "    return(photo_C2)  \n",
    "\n",
    "def cnn_model():\n",
    "    model = models.Sequential()\n",
    "    model.add(layers.Dense(units=7104, activation='relu', input_shape=[14208]))\n",
    "    model.add(layers.Dense(1000, activation='relu'))\n",
    "    model.add(layers.Dense(100,activation='relu'))\n",
    "    model.add(layers.Dense(10, activation = \"relu\"))\n",
    "    model.add(layers.Dense(1))\n",
    "    return model\n",
    "        \n",
    "#Training step : recover pictures and preprocess them\n",
    "\n",
    "image_path_list = []\n",
    "P = []\n",
    "P2 = []\n",
    "\n",
    "imageDir = \"pictures white\"\n",
    "for file in os.listdir(imageDir):\n",
    "    image_path_list.append(os.path.join(imageDir, file))\n",
    "for i in range(len(image_path_list)):\n",
    "    P.append(np.asarray(PIL.Image.open(image_path_list[i])))\n",
    "    \n",
    "\n",
    "for i in range(len(P)):\n",
    "    #print(\"Picture\",i)\n",
    "    P2.append(preprocess_train(P[i],0.5,0))\n",
    "    #plt.figure()\n",
    "    #plt.imshow(P2[i])\n",
    "    \n",
    "#Création de la dataframe\n",
    "Data = pd.DataFrame()\n",
    "for i in range(len(P2)):\n",
    "    tmp = np.reshape(P2[i],6750)\n",
    "    Data[i] = tmp\n",
    "    \n",
    "Data = Data.T\n",
    "#Data = Data.drop(0)\n",
    "#Data = Data.drop(1)\n",
    "#Data = Data.drop(3)\n",
    "#Data = Data.drop(4)\n",
    "#Data = Data.drop(6)\n",
    "#Data = Data.drop(7)\n",
    "\n",
    "defaut = [0,0,0,1,1,0,1,1,1,1,1,1,1,1,1,1,1,1,1,1,1,1,1,0,1,1,1,0,0,0,0,1,1,1,1,1,1,0,0,0,0,0,0,0,0,0,0,0,0,0,0,0,1,0,1,0,0,0,0,0]\n",
    "\n",
    "Data[\"Défauts\"] = defaut\n",
    "\n",
    "#Data = pd.concat([Data,Data.loc[Data[\"Défauts\"] == 0]]) #To get a balanced dataset, we add two times the 'no default' pics\n",
    "\n",
    "y = Data['Défauts']\n",
    "X = Data.drop(['Défauts'],axis=1)\n",
    "X = X/255\n",
    "X_train, X_test, y_train, y_test = train_test_split(X,y,test_size = 0.25)\n",
    "\n",
    "#CNN MODEL\n",
    "\n",
    "\"\"\"\n",
    "model = cnn_model()\n",
    "model.summary()\n",
    "\n",
    "model.compile(\n",
    "    optimizer=\"adamax\",\n",
    "    #loss=tf.keras.losses.BinaryCrossentropy(from_logits=True),\n",
    "    loss = \"mse\",\n",
    "    metrics = 'mse'\n",
    ")\n",
    "\n",
    "\n",
    "history = model.fit(\n",
    "    X_train, y_train,\n",
    "    validation_data=(X_test, y_test),\n",
    "    batch_size=8,\n",
    "    callbacks=tf.keras.callbacks.EarlyStopping(monitor='val_loss', patience=10),\n",
    "    epochs=100)\n",
    "\n",
    "y_pred = model.predict(X_test)\n",
    "\n",
    "print(y_pred)\n",
    "for i in range(len(y_pred)):\n",
    "    if y_pred[i] < 0.5:\n",
    "        y_pred[i] = 0\n",
    "    else: y_pred[i] = 1\n",
    "        \n",
    "print(y_pred)\n",
    "print(y_test)\n",
    "\n",
    "\"\"\"\n",
    "\n",
    "\n",
    "#RF Model\n",
    "\n",
    "clf = RandomForestClassifier(max_depth=5, n_estimators =10, bootstrap = True)\n",
    "clf.fit(X_train, y_train)\n",
    "y_pred = clf.predict(X_test)\n",
    "\n",
    "print(accuracy_score(y_train, clf.predict(X_train)))\n",
    "\n",
    "print(y_pred)\n",
    "print(y_test)\n",
    "accuracy_score(y_test, y_pred)"
   ]
  },
  {
   "cell_type": "code",
   "execution_count": null,
   "metadata": {},
   "outputs": [],
   "source": [
    "max_depth = [1,2,5,10,20]\n",
    "n_est = [10,20,50,100]\n",
    "accuracy_train = []\n",
    "accuracy = []\n",
    "y_pred_all = []\n",
    "\n",
    "for i in max_depth:\n",
    "    for j in n_est:\n",
    "        clf = RandomForestClassifier(n_estimators=int(j), max_depth = int(i), bootstrap = False)\n",
    "        clf.fit(X_train, y_train)\n",
    "        y_pred = clf.predict(X_test)\n",
    "        y_pred_all.append(y_pred)\n",
    "        accuracy_train.append(accuracy_score(y_train,clf.predict(X_train)))\n",
    "        accuracy.append(accuracy_score(y_test,clf.predict(X_test)))\n",
    "        #accuracy.append(cross_val_score(clf,X,y,cv = 3, scoring = \"accuracy\"))\n",
    "        print(j)\n",
    "    print(i)\n",
    "plt.boxplot(accuracy)\n",
    "plt.xlabel(\"Max depth\")\n",
    "plt.ylabel(\"Accuracy\")\n",
    "plt.show()"
   ]
  },
  {
   "cell_type": "code",
   "execution_count": null,
   "metadata": {},
   "outputs": [],
   "source": [
    "plt.plot(accuracy,label = 'test')\n",
    "plt.plot(accuracy_train,label = 'train')"
   ]
  },
  {
   "cell_type": "code",
   "execution_count": null,
   "metadata": {},
   "outputs": [],
   "source": [
    "from sklearn.neighbors import KNeighborsClassifier\n",
    "\n",
    "neighb = [1,2,3,4,5,6,7,8,9,10,11,12,13,14,15,16,17,18,19,20]\n",
    "accuracy = []\n",
    "\n",
    "\n",
    "for i in neighb:\n",
    "    clf = KNeighborsClassifier(n_neighbors=i)\n",
    "    clf.fit(X_train, y_train)\n",
    "    y_pred = clf.predict(X_test)\n",
    "    y_pred_all.append(y_pred)\n",
    "    accuracy.append(cross_val_score(clf,X,y,cv = 3, scoring = \"accuracy\"))\n",
    "    print(i)\n",
    "plt.boxplot(accuracy)\n",
    "plt.xlabel(\"Max depth\")\n",
    "plt.ylabel(\"# of neighbours\")\n",
    "plt.show()"
   ]
  },
  {
   "cell_type": "code",
   "execution_count": null,
   "metadata": {},
   "outputs": [],
   "source": [
    "plt.boxplot(accuracy)\n",
    "plt.xlabel(\"Max depth\")\n",
    "plt.ylabel(\"Accuracy\")\n",
    "plt.show()"
   ]
  },
  {
   "cell_type": "code",
   "execution_count": null,
   "metadata": {},
   "outputs": [],
   "source": [
    "P_test = PIL.Image.open(\"pictures white/test40.jpg\")\n",
    "Data = preprocess_train(P_test,0.4,1)"
   ]
  },
  {
   "cell_type": "code",
   "execution_count": null,
   "metadata": {},
   "outputs": [],
   "source": [
    "defaut = [0,0,1,1,0,1,1,1,1,1,1,1,1,1,1,1,1,1,1,1,1,1,0,1,1,1,0,0,0,0,1,1,1,1,1,1,0,0,0,0,0,0,0,0,0,0,0,0,0,0,0,1,0,0,0,0,0,0,0,0]"
   ]
  },
  {
   "cell_type": "code",
   "execution_count": null,
   "metadata": {},
   "outputs": [],
   "source": [
    "len(defaut)"
   ]
  },
  {
   "cell_type": "code",
   "execution_count": null,
   "metadata": {},
   "outputs": [],
   "source": []
  },
  {
   "cell_type": "code",
   "execution_count": null,
   "metadata": {},
   "outputs": [],
   "source": []
  },
  {
   "cell_type": "code",
   "execution_count": null,
   "metadata": {},
   "outputs": [],
   "source": []
  },
  {
   "cell_type": "code",
   "execution_count": null,
   "metadata": {},
   "outputs": [],
   "source": []
  },
  {
   "cell_type": "code",
   "execution_count": 76,
   "metadata": {},
   "outputs": [
    {
     "name": "stdout",
     "output_type": "stream",
     "text": [
      "Epoch 1/20\n",
      "3/3 [==============================] - 3s 339ms/step - loss: 4.9695 - accuracy: 0.6056 - val_loss: 10.9868 - val_accuracy: 0.4000\n",
      "Epoch 2/20\n",
      "3/3 [==============================] - 0s 110ms/step - loss: 7.2478 - accuracy: 0.4000 - val_loss: 1.3302 - val_accuracy: 0.4000\n",
      "Epoch 3/20\n",
      "3/3 [==============================] - 0s 116ms/step - loss: 0.8275 - accuracy: 0.6194 - val_loss: 1.0632 - val_accuracy: 0.6000\n",
      "Epoch 4/20\n",
      "3/3 [==============================] - 0s 117ms/step - loss: 1.2899 - accuracy: 0.4806 - val_loss: 1.3638 - val_accuracy: 0.4000\n",
      "Epoch 5/20\n",
      "3/3 [==============================] - 0s 124ms/step - loss: 1.1321 - accuracy: 0.5694 - val_loss: 0.8353 - val_accuracy: 0.4000\n",
      "Epoch 6/20\n",
      "3/3 [==============================] - 0s 115ms/step - loss: 0.4861 - accuracy: 0.8306 - val_loss: 0.8878 - val_accuracy: 0.6000\n",
      "Epoch 7/20\n",
      "3/3 [==============================] - 0s 145ms/step - loss: 0.7916 - accuracy: 0.5361 - val_loss: 1.3935 - val_accuracy: 0.4000\n",
      "Epoch 8/20\n",
      "3/3 [==============================] - 0s 137ms/step - loss: 0.8963 - accuracy: 0.5444 - val_loss: 0.5176 - val_accuracy: 0.7333\n",
      "Epoch 9/20\n",
      "3/3 [==============================] - 0s 116ms/step - loss: 0.5662 - accuracy: 0.6111 - val_loss: 0.5070 - val_accuracy: 0.8000\n",
      "Epoch 10/20\n",
      "3/3 [==============================] - 0s 119ms/step - loss: 0.5891 - accuracy: 0.5750 - val_loss: 0.7037 - val_accuracy: 0.4667\n",
      "Epoch 11/20\n",
      "3/3 [==============================] - 0s 122ms/step - loss: 0.3387 - accuracy: 0.7889 - val_loss: 0.4788 - val_accuracy: 0.7333\n",
      "Epoch 12/20\n",
      "3/3 [==============================] - 0s 118ms/step - loss: 0.3857 - accuracy: 0.8167 - val_loss: 0.6329 - val_accuracy: 0.5333\n",
      "Epoch 13/20\n",
      "3/3 [==============================] - 0s 128ms/step - loss: 0.3400 - accuracy: 0.8889 - val_loss: 0.4327 - val_accuracy: 0.8000\n",
      "Epoch 14/20\n",
      "3/3 [==============================] - 0s 126ms/step - loss: 0.2450 - accuracy: 0.9167 - val_loss: 0.4288 - val_accuracy: 0.8000\n",
      "Epoch 15/20\n",
      "3/3 [==============================] - 0s 106ms/step - loss: 0.2830 - accuracy: 0.8944 - val_loss: 0.6490 - val_accuracy: 0.7333\n",
      "Epoch 16/20\n",
      "3/3 [==============================] - 0s 121ms/step - loss: 0.2302 - accuracy: 0.9333 - val_loss: 0.4077 - val_accuracy: 0.7333\n",
      "Epoch 17/20\n",
      "3/3 [==============================] - 0s 112ms/step - loss: 0.2000 - accuracy: 0.9083 - val_loss: 0.5568 - val_accuracy: 0.8000\n",
      "Epoch 18/20\n",
      "3/3 [==============================] - 0s 111ms/step - loss: 0.1643 - accuracy: 0.9806 - val_loss: 0.4800 - val_accuracy: 0.8000\n",
      "Epoch 19/20\n",
      "3/3 [==============================] - 0s 121ms/step - loss: 0.1145 - accuracy: 1.0000 - val_loss: 0.3940 - val_accuracy: 0.7333\n",
      "Epoch 20/20\n",
      "3/3 [==============================] - 0s 138ms/step - loss: 0.1040 - accuracy: 1.0000 - val_loss: 0.4369 - val_accuracy: 0.8000\n"
     ]
    },
    {
     "data": {
      "text/plain": [
       "'\\n\\n\\n#RF Model\\n\\nclf = RandomForestClassifier(max_depth=5, n_estimators =10, bootstrap = True)\\nclf.fit(X_train, y_train)\\ny_pred = clf.predict(X_test)\\n\\nprint(accuracy_score(y_train, clf.predict(X_train)))\\n\\nprint(y_pred)\\nprint(y_test)\\naccuracy_score(y_test, y_pred)\\n\\n'"
      ]
     },
     "execution_count": 76,
     "metadata": {},
     "output_type": "execute_result"
    }
   ],
   "source": [
    "import os\n",
    "import pandas as pd\n",
    "import numpy as np\n",
    "import matplotlib.pyplot as plt\n",
    "import matplotlib.image as mpimg\n",
    "from matplotlib import cm\n",
    "import cv2\n",
    "import PIL\n",
    "from PIL import Image\n",
    "import math\n",
    "from time import sleep\n",
    "import time\n",
    "import sklearn\n",
    "\n",
    "import tensorflow as tf\n",
    "from tensorflow import keras\n",
    "from tensorflow.keras import layers, models\n",
    "from keras.utils import plot_model\n",
    "\n",
    "from sklearn import preprocessing\n",
    "from sklearn.model_selection import train_test_split\n",
    "from sklearn.ensemble import RandomForestClassifier\n",
    "from sklearn.metrics import accuracy_score\n",
    "from sklearn.model_selection import cross_val_score\n",
    "\n",
    "def preprocess_train(photo, comp_rate,print):\n",
    "    #Photo imported using PIL and compression rate in decimal (0.9 --> 90% comp rate)\n",
    "    #P1 : Rognage de la photo\n",
    "    photo=np.asarray(photo)\n",
    "    photo = photo[95:185,110:210]\n",
    "    if(print):\n",
    "        plt.figure()\n",
    "        plt. imshow(photo)\n",
    "        plt.title('Originale rognée')\n",
    "    \n",
    "    #P2 : Définition de la zone d'intérêt de la pièce\n",
    "    photo2 = np.copy(photo)\n",
    "    for i in range(len(photo2)):\n",
    "        for j in range(np.size(photo2,1)):\n",
    "            if photo2[i,j,2]< 235 and photo2[i,j,1]<235 and photo2[i,j,0]<235:\n",
    "                photo2[i,j] = [255,255,255]\n",
    "            else:\n",
    "                photo2[i,j] = [0,0,0]\n",
    "    if(print):\n",
    "        plt.figure()\n",
    "        plt. imshow(photo2)\n",
    "        plt.title('Photo noire et blanc avec pièce isolée')\n",
    "    \n",
    "    #P3 : Compression de la photo en vue du modèle de ML\n",
    "    Photo_c = Image.fromarray(np.uint8((photo2)))\n",
    "    x,y = Photo_c.size\n",
    "    x2, y2 = math.floor(x-comp_rate*x/1), math.floor(y-comp_rate*y/1)\n",
    "    Photo_c = Photo_c.resize((x2,y2),Image.ANTIALIAS)\n",
    "    Photo_c = np.asarray(Photo_c)\n",
    "    if(print):\n",
    "        plt.figure()\n",
    "        plt. imshow(Photo_c)\n",
    "        plt.title(\"Image compressée\")\n",
    "    \n",
    "    #P4 : Cleaning Post-Compression\n",
    "    photo_C2 = np.copy(Photo_c)\n",
    "    for i in range(len(photo_C2)):\n",
    "        for j in range(np.size(photo_C2,1)):\n",
    "            if photo_C2[i,j,2]< 60 and photo_C2[i,j,1]<60 and photo_C2[i,j,0]<60:\n",
    "                photo_C2[i,j] = [0,0,0]\n",
    "            else:\n",
    "                photo_C2[i,j] = [255,255,255]\n",
    "    if(print):\n",
    "        plt.figure()\n",
    "        plt. imshow(photo_C2)\n",
    "        plt.title('Photo finale')\n",
    "    return(photo_C2)  \n",
    "\"\"\"\n",
    "def cnn_model():\n",
    "    model = models.Sequential()\n",
    "    model.add(layers.Dense(units=7104, activation='relu', input_shape=[14208]))\n",
    "    model.add(layers.Dense(1000, activation='relu'))\n",
    "    model.add(layers.Dense(100,activation='relu'))\n",
    "    model.add(layers.Dense(10, activation = \"relu\"))\n",
    "    model.add(layers.Dense(1))\n",
    "    return model\n",
    "\"\"\"        \n",
    "#Training step : recover pictures and preprocess them\n",
    "\n",
    "image_path_list = []\n",
    "P = []\n",
    "P2 = []\n",
    "\n",
    "imageDir = \"pictures white\"\n",
    "for file in os.listdir(imageDir):\n",
    "    image_path_list.append(os.path.join(imageDir, file))\n",
    "for i in range(len(image_path_list)):\n",
    "    P.append(np.asarray(PIL.Image.open(image_path_list[i])))\n",
    "    \n",
    "\n",
    "for i in range(len(P)):\n",
    "    #print(\"Picture\",i)\n",
    "    P2.append(preprocess_train(P[i],0.5,0))\n",
    "    #plt.figure()\n",
    "    #plt.imshow(P2[i])\n",
    "    \n",
    "#Création de la dataframe\n",
    "Data = pd.DataFrame()\n",
    "for i in range(len(P2)):\n",
    "    tmp = np.reshape(P2[i],6750)\n",
    "    Data[i] = tmp\n",
    "    \n",
    "Data = Data.T\n",
    "\n",
    "defaut = [0,0,0,1,1,0,1,1,1,1,1,1,1,1,1,1,1,1,1,1,1,1,1,0,1,1,1,0,0,0,0,1,1,1,1,1,1,0,0,0,0,0,0,0,0,0,0,0,0,0,0,0,1,0,1,0,0,0,1,0]\n",
    "\n",
    "Data[\"Défauts\"] = defaut\n",
    "\n",
    "#Data = pd.concat([Data,Data.loc[Data[\"Défauts\"] == 0]]) #To get a balanced dataset, we add two times the 'no default' pics\n",
    "\n",
    "y = Data['Défauts']\n",
    "X = Data.drop(['Défauts'],axis=1)\n",
    "X = X/255\n",
    "X_train, X_test, y_train, y_test = train_test_split(X,y,test_size = 0.25)\n",
    "\n",
    "#CNN MODEL\n",
    "\n",
    "\n",
    "def cnn_model():\n",
    "    model = models.Sequential()\n",
    "    model.add(layers.Dense(units=2000, activation='relu', input_shape=[6750]))\n",
    "    model.add(layers.Dense(1000, activation='relu'))\n",
    "    model.add(layers.Dense(100,activation='relu'))\n",
    "    model.add(layers.Dense(10, activation = \"relu\"))\n",
    "    model.add(layers.Dense(2))\n",
    "    return model\n",
    "\n",
    "model = cnn_model()\n",
    "\n",
    "model.compile(optimizer='adam',\n",
    "              loss=tf.keras.losses.SparseCategoricalCrossentropy(from_logits=True),\n",
    "              metrics=['accuracy'])\n",
    "\n",
    "\n",
    "history = model.fit(\n",
    "    X_train, y_train,\n",
    "    validation_data=(X_test, y_test),\n",
    "    batch_size=15,\n",
    "    #callbacks=tf.keras.callbacks.EarlyStopping(monitor='val_loss', patience=5),\n",
    "    epochs=20)\n",
    "\n",
    "#y_pred = model.predict(X_test)\n",
    "\n",
    "\n",
    "\"\"\"\n",
    "print(y_pred)\n",
    "for i in range(len(y_pred)):\n",
    "    if y_pred[i] < 0.5:\n",
    "        y_pred[i] = 0\n",
    "    else: y_pred[i] = 1\n",
    "\"\"\"\n",
    "        \n",
    "#print(accuracy_score(y_train, model.predict(X_train)))\n",
    "#print(y_pred)\n",
    "#print(y_test)\n",
    "#predictions_single = probability_model.predict(X_test)\n",
    "\n",
    "\"\"\"\n",
    "\n",
    "\n",
    "#RF Model\n",
    "\n",
    "clf = RandomForestClassifier(max_depth=5, n_estimators =10, bootstrap = True)\n",
    "clf.fit(X_train, y_train)\n",
    "y_pred = clf.predict(X_test)\n",
    "\n",
    "print(accuracy_score(y_train, clf.predict(X_train)))\n",
    "\n",
    "print(y_pred)\n",
    "print(y_test)\n",
    "accuracy_score(y_test, y_pred)\n",
    "\n",
    "\"\"\""
   ]
  },
  {
   "cell_type": "code",
   "execution_count": 77,
   "metadata": {},
   "outputs": [],
   "source": [
    "probability_model = tf.keras.Sequential([model, \n",
    "                                         tf.keras.layers.Softmax()])"
   ]
  },
  {
   "cell_type": "code",
   "execution_count": 78,
   "metadata": {},
   "outputs": [
    {
     "name": "stdout",
     "output_type": "stream",
     "text": [
      "WARNING:tensorflow:10 out of the last 11 calls to <function Model.make_predict_function.<locals>.predict_function at 0x0000028081F555E0> triggered tf.function retracing. Tracing is expensive and the excessive number of tracings could be due to (1) creating @tf.function repeatedly in a loop, (2) passing tensors with different shapes, (3) passing Python objects instead of tensors. For (1), please define your @tf.function outside of the loop. For (2), @tf.function has experimental_relax_shapes=True option that relaxes argument shapes that can avoid unnecessary retracing. For (3), please refer to https://www.tensorflow.org/guide/function#controlling_retracing and https://www.tensorflow.org/api_docs/python/tf/function for  more details.\n"
     ]
    }
   ],
   "source": [
    "predictions = probability_model.predict(X_test)"
   ]
  },
  {
   "cell_type": "code",
   "execution_count": 79,
   "metadata": {},
   "outputs": [
    {
     "name": "stdout",
     "output_type": "stream",
     "text": [
      "[[8.72833967e-01 1.27166048e-01]\n",
      " [4.55793411e-01 5.44206560e-01]\n",
      " [8.45006108e-03 9.91549969e-01]\n",
      " [8.66391599e-01 1.33608371e-01]\n",
      " [3.03999156e-01 6.96000934e-01]\n",
      " [4.99974899e-02 9.50002551e-01]\n",
      " [4.47364699e-04 9.99552667e-01]\n",
      " [2.86880851e-01 7.13119149e-01]\n",
      " [9.50428903e-01 4.95710932e-02]\n",
      " [3.85012001e-01 6.14988029e-01]\n",
      " [4.93725896e-01 5.06274045e-01]\n",
      " [8.82936895e-01 1.17063031e-01]\n",
      " [8.95040631e-01 1.04959421e-01]\n",
      " [7.76508510e-01 2.23491535e-01]\n",
      " [1.21197015e-01 8.78803015e-01]]\n",
      "57    0\n",
      "37    0\n",
      "9     1\n",
      "48    0\n",
      "32    1\n",
      "14    1\n",
      "3     1\n",
      "38    0\n",
      "42    0\n",
      "17    1\n",
      "52    1\n",
      "1     0\n",
      "0     0\n",
      "53    0\n",
      "49    0\n",
      "Name: Défauts, dtype: int64\n"
     ]
    }
   ],
   "source": [
    "print(predictions)\n",
    "print(y_test)"
   ]
  },
  {
   "cell_type": "code",
   "execution_count": 80,
   "metadata": {},
   "outputs": [],
   "source": [
    "y_pred = []\n",
    "for i in range(len(predictions)):\n",
    "    if predictions[i,0]>predictions[i,1]:\n",
    "        y_pred.append(0)\n",
    "    else:\n",
    "        y_pred.append(1)"
   ]
  },
  {
   "cell_type": "code",
   "execution_count": 81,
   "metadata": {},
   "outputs": [
    {
     "name": "stdout",
     "output_type": "stream",
     "text": [
      "[0, 1, 1, 0, 1, 1, 1, 1, 0, 1, 1, 0, 0, 0, 1]\n",
      "[0 0 1 0 1 1 1 0 0 1 1 0 0 0 0]\n"
     ]
    }
   ],
   "source": [
    "print(y_pred)\n",
    "print(np.asarray(y_test))"
   ]
  },
  {
   "cell_type": "code",
   "execution_count": 65,
   "metadata": {},
   "outputs": [
    {
     "data": {
      "text/plain": [
       "<matplotlib.image.AxesImage at 0x28081397910>"
      ]
     },
     "execution_count": 65,
     "metadata": {},
     "output_type": "execute_result"
    },
    {
     "data": {
      "image/png": "[encoded data removed]",
      "text/plain": [
       "<Figure size 432x288 with 1 Axes>"
      ]
     },
     "metadata": {
      "needs_background": "light"
     },
     "output_type": "display_data"
    }
   ],
   "source": [
    "plt.imshow(P[54])"
   ]
  },
  {
   "cell_type": "code",
   "execution_count": 66,
   "metadata": {},
   "outputs": [
    {
     "data": {
      "text/plain": [
       "<matplotlib.image.AxesImage at 0x280812c4910>"
      ]
     },
     "execution_count": 66,
     "metadata": {},
     "output_type": "execute_result"
    },
    {
     "data": {
      "image/png": "[encoded data removed]",
      "text/plain": [
       "<Figure size 432x288 with 1 Axes>"
      ]
     },
     "metadata": {
      "needs_background": "light"
     },
     "output_type": "display_data"
    }
   ],
   "source": [
    "plt.imshow(P[54])"
   ]
  },
  {
   "cell_type": "markdown",
   "metadata": {},
   "source": [
    "# Final CNN Model"
   ]
  },
  {
   "cell_type": "code",
   "execution_count": 5,
   "metadata": {},
   "outputs": [
    {
     "name": "stdout",
     "output_type": "stream",
     "text": [
      "Shape X is (60, 18, 20, 3)\n",
      "Shape y is (60, 2)\n",
      "(60, 18, 20, 3)\n",
      "Shape X_train is (45, 18, 20, 3)\n",
      "Shape y_train is (45, 2)\n",
      "Shape X_test is (15, 18, 20, 3)\n",
      "Shape y_test is (15, 2)\n",
      "Model: \"sequential_2\"\n",
      "_________________________________________________________________\n",
      "Layer (type)                 Output Shape              Param #   \n",
      "=================================================================\n",
      "conv2d_6 (Conv2D)            (None, 16, 18, 32)        896       \n",
      "_________________________________________________________________\n",
      "max_pooling2d_4 (MaxPooling2 (None, 8, 9, 32)          0         \n",
      "_________________________________________________________________\n",
      "conv2d_7 (Conv2D)            (None, 6, 7, 64)          18496     \n",
      "_________________________________________________________________\n",
      "max_pooling2d_5 (MaxPooling2 (None, 3, 3, 64)          0         \n",
      "_________________________________________________________________\n",
      "conv2d_8 (Conv2D)            (None, 1, 1, 64)          36928     \n",
      "_________________________________________________________________\n",
      "flatten_2 (Flatten)          (None, 64)                0         \n",
      "_________________________________________________________________\n",
      "dense_4 (Dense)              (None, 64)                4160      \n",
      "_________________________________________________________________\n",
      "dense_5 (Dense)              (None, 2)                 130       \n",
      "=================================================================\n",
      "Total params: 60,610\n",
      "Trainable params: 60,610\n",
      "Non-trainable params: 0\n",
      "_________________________________________________________________\n",
      "Epoch 1/40\n",
      "3/3 [==============================] - 1s 244ms/step - loss: 0.6844 - accuracy: 0.6028 - val_loss: 0.8425 - val_accuracy: 0.3333\n",
      "Epoch 2/40\n",
      "3/3 [==============================] - 0s 37ms/step - loss: 0.6662 - accuracy: 0.6472 - val_loss: 0.9061 - val_accuracy: 0.3333\n",
      "Epoch 3/40\n",
      "3/3 [==============================] - 0s 41ms/step - loss: 0.7333 - accuracy: 0.5306 - val_loss: 0.7140 - val_accuracy: 0.3333\n",
      "Epoch 4/40\n",
      "3/3 [==============================] - 0s 43ms/step - loss: 0.6801 - accuracy: 0.5583 - val_loss: 0.6918 - val_accuracy: 0.3333\n",
      "Epoch 5/40\n",
      "3/3 [==============================] - 0s 39ms/step - loss: 0.6723 - accuracy: 0.6444 - val_loss: 0.7010 - val_accuracy: 0.3333\n",
      "Epoch 6/40\n",
      "3/3 [==============================] - 0s 41ms/step - loss: 0.6642 - accuracy: 0.6056 - val_loss: 0.7200 - val_accuracy: 0.3333\n",
      "Epoch 7/40\n",
      "3/3 [==============================] - 0s 39ms/step - loss: 0.6609 - accuracy: 0.5639 - val_loss: 0.7273 - val_accuracy: 0.3333\n",
      "Epoch 8/40\n",
      "3/3 [==============================] - 0s 35ms/step - loss: 0.6642 - accuracy: 0.5389 - val_loss: 0.7152 - val_accuracy: 0.3333\n",
      "Epoch 9/40\n",
      "3/3 [==============================] - 0s 36ms/step - loss: 0.6319 - accuracy: 0.5972 - val_loss: 0.7198 - val_accuracy: 0.3333\n",
      "Epoch 10/40\n",
      "3/3 [==============================] - 0s 37ms/step - loss: 0.6271 - accuracy: 0.5722 - val_loss: 0.7093 - val_accuracy: 0.3333\n",
      "Epoch 11/40\n",
      "3/3 [==============================] - 0s 38ms/step - loss: 0.6502 - accuracy: 0.5417 - val_loss: 0.6669 - val_accuracy: 0.4000\n",
      "Epoch 12/40\n",
      "3/3 [==============================] - 0s 73ms/step - loss: 0.5950 - accuracy: 0.6139 - val_loss: 0.7299 - val_accuracy: 0.3333\n",
      "Epoch 13/40\n",
      "3/3 [==============================] - 0s 82ms/step - loss: 0.5935 - accuracy: 0.5778 - val_loss: 0.6219 - val_accuracy: 0.9333\n",
      "Epoch 14/40\n",
      "3/3 [==============================] - 0s 39ms/step - loss: 0.5634 - accuracy: 0.9250 - val_loss: 0.6154 - val_accuracy: 0.6667\n",
      "Epoch 15/40\n",
      "3/3 [==============================] - 0s 36ms/step - loss: 0.5189 - accuracy: 0.8861 - val_loss: 0.5960 - val_accuracy: 0.6667\n",
      "Epoch 16/40\n",
      "3/3 [==============================] - 0s 38ms/step - loss: 0.4717 - accuracy: 0.7472 - val_loss: 0.5108 - val_accuracy: 0.9333\n",
      "Epoch 17/40\n",
      "3/3 [==============================] - 0s 46ms/step - loss: 0.4758 - accuracy: 0.8167 - val_loss: 0.4692 - val_accuracy: 0.9333\n",
      "Epoch 18/40\n",
      "3/3 [==============================] - 0s 39ms/step - loss: 0.4062 - accuracy: 0.8472 - val_loss: 0.5594 - val_accuracy: 0.6667\n",
      "Epoch 19/40\n",
      "3/3 [==============================] - 0s 37ms/step - loss: 0.3628 - accuracy: 0.8528 - val_loss: 0.3918 - val_accuracy: 0.8667\n",
      "Epoch 20/40\n",
      "3/3 [==============================] - 0s 39ms/step - loss: 0.3769 - accuracy: 0.8694 - val_loss: 0.3773 - val_accuracy: 0.9333\n",
      "Epoch 21/40\n",
      "3/3 [==============================] - 0s 40ms/step - loss: 0.3055 - accuracy: 0.9111 - val_loss: 0.3452 - val_accuracy: 0.9333\n",
      "Epoch 22/40\n",
      "3/3 [==============================] - 0s 40ms/step - loss: 0.2833 - accuracy: 0.9167 - val_loss: 0.3117 - val_accuracy: 0.9333\n",
      "Epoch 23/40\n",
      "3/3 [==============================] - 0s 43ms/step - loss: 0.2272 - accuracy: 0.9389 - val_loss: 0.2730 - val_accuracy: 0.9333\n",
      "Epoch 24/40\n",
      "3/3 [==============================] - 0s 46ms/step - loss: 0.2341 - accuracy: 0.9417 - val_loss: 0.3131 - val_accuracy: 0.9333\n",
      "Epoch 25/40\n",
      "3/3 [==============================] - 0s 39ms/step - loss: 0.2249 - accuracy: 0.9333 - val_loss: 0.2240 - val_accuracy: 0.9333\n",
      "Epoch 26/40\n",
      "3/3 [==============================] - 0s 41ms/step - loss: 0.2082 - accuracy: 0.9333 - val_loss: 0.2105 - val_accuracy: 0.9333\n",
      "Epoch 27/40\n",
      "3/3 [==============================] - 0s 38ms/step - loss: 0.2899 - accuracy: 0.9167 - val_loss: 0.1978 - val_accuracy: 0.9333\n",
      "Epoch 28/40\n",
      "3/3 [==============================] - 0s 42ms/step - loss: 0.2124 - accuracy: 0.8917 - val_loss: 0.2480 - val_accuracy: 0.9333\n",
      "Epoch 29/40\n",
      "3/3 [==============================] - 0s 40ms/step - loss: 0.2064 - accuracy: 0.9139 - val_loss: 0.3177 - val_accuracy: 1.0000\n",
      "Epoch 30/40\n",
      "3/3 [==============================] - 0s 38ms/step - loss: 0.2652 - accuracy: 0.9250 - val_loss: 0.1878 - val_accuracy: 0.9333\n",
      "Epoch 31/40\n",
      "3/3 [==============================] - 0s 40ms/step - loss: 0.1548 - accuracy: 0.9500 - val_loss: 0.1801 - val_accuracy: 0.9333\n",
      "Epoch 32/40\n",
      "3/3 [==============================] - 0s 35ms/step - loss: 0.1939 - accuracy: 0.9167 - val_loss: 0.1945 - val_accuracy: 1.0000\n",
      "Epoch 33/40\n",
      "3/3 [==============================] - 0s 42ms/step - loss: 0.1304 - accuracy: 0.9583 - val_loss: 0.1616 - val_accuracy: 0.9333\n",
      "Epoch 34/40\n",
      "3/3 [==============================] - 0s 37ms/step - loss: 0.1467 - accuracy: 0.9417 - val_loss: 0.1560 - val_accuracy: 0.9333\n",
      "Epoch 35/40\n",
      "3/3 [==============================] - 0s 38ms/step - loss: 0.1727 - accuracy: 0.9250 - val_loss: 0.1663 - val_accuracy: 1.0000\n",
      "Epoch 36/40\n",
      "3/3 [==============================] - 0s 38ms/step - loss: 0.1508 - accuracy: 0.9250 - val_loss: 0.1473 - val_accuracy: 0.9333\n",
      "Epoch 37/40\n",
      "3/3 [==============================] - 0s 36ms/step - loss: 0.1471 - accuracy: 0.9333 - val_loss: 0.1448 - val_accuracy: 0.9333\n",
      "Epoch 38/40\n",
      "3/3 [==============================] - 0s 37ms/step - loss: 0.1577 - accuracy: 0.9333 - val_loss: 0.1447 - val_accuracy: 0.9333\n",
      "Epoch 39/40\n",
      "3/3 [==============================] - 0s 39ms/step - loss: 0.1700 - accuracy: 0.9444 - val_loss: 0.1552 - val_accuracy: 0.9333\n",
      "Epoch 40/40\n",
      "3/3 [==============================] - 0s 40ms/step - loss: 0.1522 - accuracy: 0.9333 - val_loss: 0.1689 - val_accuracy: 0.9333\n"
     ]
    }
   ],
   "source": [
    "import os\n",
    "import pandas as pd\n",
    "import numpy as np\n",
    "import matplotlib.pyplot as plt\n",
    "import matplotlib.image as mpimg\n",
    "from matplotlib import cm\n",
    "import cv2\n",
    "import PIL\n",
    "from PIL import Image\n",
    "import math\n",
    "from time import sleep\n",
    "import time\n",
    "import sklearn\n",
    "\n",
    "import tensorflow as tf\n",
    "from tensorflow import keras\n",
    "from tensorflow.keras import layers, models\n",
    "from keras.utils import plot_model\n",
    "\n",
    "from sklearn import preprocessing\n",
    "from sklearn.model_selection import train_test_split\n",
    "from sklearn.ensemble import RandomForestClassifier\n",
    "from sklearn.metrics import accuracy_score\n",
    "from sklearn.model_selection import cross_val_score\n",
    "\n",
    "\n",
    "def preprocess_train(photo, comp_rate,print):\n",
    "    #Photo imported using PIL and compression rate in decimal (0.9 --> 90% comp rate)\n",
    "    #P1 : Rognage de la photo\n",
    "    photo=np.asarray(photo)\n",
    "    photo = photo[95:185,110:210]\n",
    "    if(print):\n",
    "        plt.figure()\n",
    "        plt. imshow(photo)\n",
    "        plt.title('Originale rognée')\n",
    "    \n",
    "    #P2 : Définition de la zone d'intérêt de la pièce\n",
    "    photo2 = np.copy(photo)\n",
    "    #photo3 = np.empty((len(photo2),np.size(photo2,1)))\n",
    "    #for i in range(len(photo2)):\n",
    "    #    for j in range(np.size(photo2,1)):\n",
    "    #        photo3[i,j] = \n",
    "    \n",
    "    #gray = lambda rgb : np.dot(rgb[... , :3] , [0.299 , 0.587, 0.114]) \n",
    "    #photo3 = gray(photo2)\n",
    "    \n",
    "            \n",
    "    #        if photo2[i,j,2]< 235 and photo2[i,j,1]<235 and photo2[i,j,0]<235:\n",
    "    #            photo2[i,j] = [255,255,255]\n",
    "    #        else:\n",
    "    #            photo2[i,j] = [0,0,0]\n",
    "    #if(print):\n",
    "        #plt.figure()\n",
    "        #plt. imshow(photo3,cmap = plt.get_cmap(name = 'gray'))\n",
    "        #plt.title('Photo noire et blanc avec pièce isolée')\n",
    "    \n",
    "    #P3 : Compression de la photo en vue du modèle de ML\n",
    "    Photo_c = Image.fromarray(np.uint8((photo2)))\n",
    "    x,y = Photo_c.size\n",
    "    x2, y2 = math.floor(x-comp_rate*x/1), math.floor(y-comp_rate*y/1)\n",
    "    Photo_c = Photo_c.resize((x2,y2),Image.ANTIALIAS)\n",
    "    Photo_c = np.asarray(Photo_c)\n",
    "    if(print):\n",
    "        plt.figure()\n",
    "        plt. imshow(Photo_c, cmap = plt.get_cmap(name = 'gray'))\n",
    "        plt.title(\"Image compressée\")\n",
    "    \n",
    "    #P4 : Cleaning Post-Compression\n",
    "    photo_C2 = np.copy(Photo_c)\n",
    "    #for i in range(len(photo_C2)):\n",
    "    #    for j in range(np.size(photo_C2,1)):\n",
    "    #        if photo_C2[i,j,2]< 60 and photo_C2[i,j,1]<60 and photo_C2[i,j,0]<60:\n",
    "    #            photo_C2[i,j] = [0,0,0]\n",
    "    #        else:\n",
    "    #            photo_C2[i,j] = [255,255,255]\n",
    "    #if(print):\n",
    "    #    plt.figure()\n",
    "    #    plt. imshow(photo_C2, cmap = plt.get_cmap(name = 'gray'))\n",
    "    #    plt.title('Photo finale')\n",
    "    return(photo_C2)  \n",
    "    \n",
    "\n",
    "def dense_model():\n",
    "    model = models.Sequential()\n",
    "    model.add(layers.Dense(units=7104, activation='relu', input_shape=[14208]))\n",
    "    model.add(layers.Dense(1000, activation='relu'))\n",
    "    model.add(layers.Dense(100,activation='relu'))\n",
    "    model.add(layers.Dense(10, activation = \"relu\"))\n",
    "    model.add(layers.Dense(1))\n",
    "    return model\n",
    "\n",
    "def cnn_model(comp_rate):\n",
    "    model = models.Sequential()\n",
    "    model.add(layers.Conv2D(32, (3, 3), activation='relu', input_shape=(math.floor(90-comp_rate*90/1), math.floor(100-comp_rate*100/1), 3)))\n",
    "    model.add(layers.MaxPooling2D((2, 2)))\n",
    "    model.add(layers.Conv2D(64, (3, 3), activation='relu'))\n",
    "    model.add(layers.MaxPooling2D((2, 2)))\n",
    "    model.add(layers.Conv2D(64, (3, 3), activation='relu'))\n",
    "    model.add(layers.Flatten())\n",
    "    model.add(layers.Dense(64, activation='relu'))\n",
    "    model.add(layers.Dense(2))\n",
    "    return model\n",
    "    \n",
    "#Training step : recover pictures and preprocess them\n",
    "\n",
    "image_path_list = []\n",
    "P = []\n",
    "data = []\n",
    "\n",
    "imageDir = \"pictures white\"\n",
    "for file in os.listdir(imageDir):\n",
    "    image_path_list.append(os.path.join(imageDir, file))\n",
    "for i in range(len(image_path_list)):\n",
    "    P.append(np.asarray(PIL.Image.open(image_path_list[i])))\n",
    "\n",
    "comp_rate = 0.8\n",
    "\n",
    "for i in range(len(P)):\n",
    "    #print(\"Picture\",i)\n",
    "    data.append(preprocess_train(P[i],comp_rate,0))\n",
    "    #plt.figure()\n",
    "    #plt.imshow(P2[i])\n",
    "   \n",
    "\n",
    "defaut = [0,0,0,1,1,0,1,1,1,1,1,1,1,1,1,1,1,1,1,1,1,1,1,0,1,1,1,0,0,0,0,1,1,1,1,1,1,0,0,0,0,0,0,0,0,0,0,0,0,0,0,0,1,0,1,0,0,0,1,0]\n",
    "nodef =  [1,1,1,0,0,1,0,0,0,0,0,0,0,0,0,0,0,0,0,0,0,0,0,1,0,0,0,1,1,1,1,0,0,0,0,0,0,1,1,1,1,1,1,1,1,1,1,1,1,1,1,1,0,1,0,1,1,1,0,1]\n",
    "\n",
    "X = data\n",
    "y = [defaut,nodef]\n",
    "y = np.array(y).T\n",
    "#y = y.reshape(1,60,2)\n",
    "print(\"Shape X is\",np.shape(X)) \n",
    "print(\"Shape y is\",np.shape(y)) \n",
    "for i in range(len(X)):\n",
    "    X[i] = X[i]/255.0\n",
    "print(np.shape(X))    \n",
    "\n",
    "X = np.array(X).reshape(len(X),-1)\n",
    "    \n",
    "    \n",
    "X_train, X_test, y_train, y_test = train_test_split(X,y,test_size = 0.25, random_state = 1)\n",
    "\n",
    "X_train = X_train.reshape((len(X_train),math.floor(90-comp_rate*90/1), math.floor(100-comp_rate*100/1), 3))\n",
    "X_test = X_test.reshape((len(X_test),math.floor(90-comp_rate*90/1), math.floor(100-comp_rate*100/1), 3))\n",
    "\n",
    "print(\"Shape X_train is\",np.shape(X_train)) \n",
    "print(\"Shape y_train is\",np.shape(y_train))\n",
    "\n",
    "print(\"Shape X_test is\",np.shape(X_test)) \n",
    "print(\"Shape y_test is\",np.shape(y_test))\n",
    "\n",
    "model = cnn_model(comp_rate)\n",
    "\n",
    "\n",
    "model.compile(optimizer='adam',\n",
    "              loss=tf.keras.losses.CategoricalCrossentropy(from_logits=True),\n",
    "              metrics=['accuracy'])\n",
    "\n",
    "model.summary()\n",
    "\n",
    "\n",
    "#from keras.optimizers import SGD\n",
    "\n",
    "#opt = SGD(lr=0.01, momentum=0.9)\n",
    "\n",
    "history = model.fit(\n",
    "    X_train, y_train,\n",
    "    validation_data=(X_test, y_test),\n",
    "    batch_size=15,\n",
    "    #callbacks=tf.keras.callbacks.EarlyStopping(monitor='val_loss', patience=5),\n",
    "    epochs=40)\n"
   ]
  },
  {
   "cell_type": "code",
   "execution_count": 6,
   "metadata": {},
   "outputs": [
    {
     "data": {
      "image/png": "[encoded data removed]",
      "text/plain": [
       "<Figure size 432x288 with 1 Axes>"
      ]
     },
     "metadata": {
      "needs_background": "light"
     },
     "output_type": "display_data"
    }
   ],
   "source": [
    "plt.plot(history.history['accuracy'])\n",
    "plt.plot(history.history['val_accuracy'])\n",
    "plt.title('model accuracy')\n",
    "plt.ylabel('accuracy')\n",
    "plt.xlabel('epoch')\n",
    "plt.legend(['train', 'validation'], loc='upper left')\n",
    "plt.show()"
   ]
  },
  {
   "cell_type": "code",
   "execution_count": 7,
   "metadata": {},
   "outputs": [
    {
     "name": "stdout",
     "output_type": "stream",
     "text": [
      "[[ 0.11482428 -0.3383567 ]]\n"
     ]
    },
    {
     "data": {
      "image/png": "[encoded data removed]",
      "text/plain": [
       "<Figure size 432x288 with 1 Axes>"
      ]
     },
     "metadata": {
      "needs_background": "light"
     },
     "output_type": "display_data"
    },
    {
     "data": {
      "image/png": "[encoded data removed]",
      "text/plain": [
       "<Figure size 432x288 with 1 Axes>"
      ]
     },
     "metadata": {
      "needs_background": "light"
     },
     "output_type": "display_data"
    }
   ],
   "source": [
    "photo = (np.asarray(PIL.Image.open(image_path_list[58])))\n",
    "photo4 = preprocess_train(photo, comp_rate, 1)\n",
    "photo4 = np.reshape(photo4,[1,len(photo4[:,1,1]),len(photo4[1,:,1]),len(photo4[1,1,:])])/255\n",
    "print(model.predict(photo4))"
   ]
  },
  {
   "cell_type": "code",
   "execution_count": null,
   "metadata": {},
   "outputs": [],
   "source": []
  },
  {
   "cell_type": "code",
   "execution_count": null,
   "metadata": {},
   "outputs": [],
   "source": []
  },
  {
   "cell_type": "code",
   "execution_count": 225,
   "metadata": {},
   "outputs": [],
   "source": [
    "from sklearn import datasets\n",
    "digits = datasets.load_digits()"
   ]
  },
  {
   "cell_type": "code",
   "execution_count": 226,
   "metadata": {},
   "outputs": [],
   "source": [
    "n_samples = len(digits.images)\n",
    "data = digits.images.reshape((n_samples, -1))"
   ]
  },
  {
   "cell_type": "code",
   "execution_count": 229,
   "metadata": {},
   "outputs": [
    {
     "data": {
      "text/plain": [
       "(1797, 64)"
      ]
     },
     "execution_count": 229,
     "metadata": {},
     "output_type": "execute_result"
    }
   ],
   "source": [
    "np.shape(data)"
   ]
  },
  {
   "cell_type": "code",
   "execution_count": null,
   "metadata": {},
   "outputs": [],
   "source": []
  },
  {
   "cell_type": "code",
   "execution_count": null,
   "metadata": {},
   "outputs": [],
   "source": []
  },
  {
   "cell_type": "code",
   "execution_count": null,
   "metadata": {},
   "outputs": [],
   "source": []
  }
 ],
 "metadata": {
  "kernelspec": {
   "display_name": "Python 3",
   "language": "python",
   "name": "python3"
  },
  "language_info": {
   "codemirror_mode": {
    "name": "ipython",
    "version": 3
   },
   "file_extension": ".py",
   "mimetype": "text/x-python",
   "name": "python",
   "nbconvert_exporter": "python",
   "pygments_lexer": "ipython3",
   "version": "3.8.5"
  }
 },
 "nbformat": 4,
 "nbformat_minor": 4
}
